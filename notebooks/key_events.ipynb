{
 "cells": [
  {
   "cell_type": "code",
   "execution_count": 1,
   "metadata": {},
   "outputs": [
    {
     "data": {
      "text/plain": [
       "[{'title': 'Microsoft hits $1 trillion market cap for the first time as stock jumps on earnings beat',\n",
       "  'date': '2019-04-25'},\n",
       " {'title': 'Microsoft Stock Rises 5%', 'date': '2020-04-06'},\n",
       " {'title': 'Alphabet and Microsoft rise to records after quarterly earnings beat estimates',\n",
       "  'date': '2021-10-27'},\n",
       " {'title': 'Microsoft shares sink more than 7% on weak guidance, but analysts bullish on rebound',\n",
       "  'date': '2022-10-26'},\n",
       " {'title': 'Microsoft Shares Jump as Cloud Revenue Boosts Earnings',\n",
       "  'date': '2023-10-25'}]"
      ]
     },
     "execution_count": 1,
     "metadata": {},
     "output_type": "execute_result"
    }
   ],
   "source": [
    "from serpapi import GoogleSearch\n",
    "import pandas as pd\n",
    "import os\n",
    "\n",
    "params = {\n",
    "  \"engine\": \"google_finance\",\n",
    "  \"q\": \"MSFT:NASDAQ\",\n",
    "  \"window\": \"5Y\",\n",
    "  \"api_key\": os.getenv(\"API_KEY\")\n",
    "}\n",
    "\n",
    "search = GoogleSearch(params)\n",
    "\n",
    "results = search.get_dict()\n",
    "key_events = [{'title':event['title'], 'date':pd.to_datetime(event['date']).strftime('%Y-%m-%d')} for event in results['key_events']]\n",
    "key_events"
   ]
  },
  {
   "cell_type": "code",
   "execution_count": null,
   "metadata": {},
   "outputs": [],
   "source": []
  }
 ],
 "metadata": {
  "kernelspec": {
   "display_name": "venv",
   "language": "python",
   "name": "python3"
  },
  "language_info": {
   "codemirror_mode": {
    "name": "ipython",
    "version": 3
   },
   "file_extension": ".py",
   "mimetype": "text/x-python",
   "name": "python",
   "nbconvert_exporter": "python",
   "pygments_lexer": "ipython3",
   "version": "3.11.3"
  }
 },
 "nbformat": 4,
 "nbformat_minor": 2
}
