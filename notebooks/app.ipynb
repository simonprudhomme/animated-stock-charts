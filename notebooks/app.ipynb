{
 "cells": [
  {
   "cell_type": "code",
   "execution_count": 3,
   "metadata": {},
   "outputs": [
    {
     "name": "stderr",
     "output_type": "stream",
     "text": [
      "[*********************100%%**********************]  4 of 4 completed\n"
     ]
    },
    {
     "name": "stdout",
     "output_type": "stream",
     "text": [
      "Completion: 0.00%\n",
      "Completion: 0.00%\n",
      "Completion: 3.97%\n",
      "Completion: 7.94%\n",
      "Completion: 11.90%\n",
      "Completion: 15.87%\n",
      "Completion: 19.84%\n",
      "Completion: 23.81%\n",
      "Completion: 27.78%\n",
      "Completion: 31.75%\n",
      "Completion: 35.71%\n",
      "Completion: 39.68%\n",
      "Completion: 43.65%\n",
      "Completion: 47.62%\n",
      "Completion: 51.59%\n",
      "Completion: 55.56%\n",
      "Completion: 59.52%\n",
      "Completion: 63.49%\n",
      "Completion: 67.46%\n",
      "Completion: 71.43%\n",
      "Completion: 75.40%\n",
      "Completion: 79.37%\n",
      "Completion: 83.33%\n",
      "Completion: 87.30%\n",
      "Completion: 91.27%\n",
      "Completion: 95.24%\n",
      "Completion: 99.21%\n",
      "GOOGL: 39.46%\n",
      "MSFT: 56.75%\n",
      "GOOGL: 39.46%\n",
      "NVDA: 264.97%\n",
      "MSFT: 56.75%\n",
      "GOOGL: 39.46%\n",
      "NVDA: 264.97%\n",
      "AMZN: 85.73%\n",
      "MSFT: 56.75%\n",
      "GOOGL: 39.46%\n",
      "Completion: 99.60%\n",
      "Done!\n"
     ]
    }
   ],
   "source": [
    "import matplotlib.pyplot as plt\n",
    "from matplotlib.animation import FuncAnimation, FFMpegWriter\n",
    "import yfinance as yf\n",
    "\n",
    "# Define tickers and download data\n",
    "tickers = ['GOOGL','MSFT','NVDA', 'AMZN']  # Extend this list with more tickers as needed\n",
    "data = yf.download(tickers, period=\"12mo\")\n",
    "\n",
    "# Reshape data for easier handling\n",
    "data = data['Close'].reset_index()\n",
    "min_date = data['Date'].min().strftime('%Y-%m-%d')\n",
    "max_date = data['Date'].max().strftime('%Y-%m-%d')\n",
    "\n",
    "# Initialize the plot\n",
    "fig, ax = plt.subplots(figsize=(10, 8))\n",
    "\n",
    "def update(frame):\n",
    "    ax.clear()\n",
    "    growth_text = ''\n",
    "    if frame == len(data['Date']) - 1:\n",
    "        order_by_growth = {}\n",
    "        for ticker in tickers:\n",
    "            start_price = data[ticker][0]\n",
    "            end_price = data[ticker][frame]\n",
    "            growth = (end_price - start_price) / start_price * 100\n",
    "            order_by_growth[ticker] = growth\n",
    "            order_by_growth = dict(sorted(order_by_growth.items(), key=lambda item: item[1], reverse=True))\n",
    "            growth_text = '\\n'.join([f'{k}: {v:.2f}%' for k, v in order_by_growth.items()])\n",
    "            print(growth_text)\n",
    "            ax.text(data['Date'][0], data[ticker][0], f'${data[ticker][0]:.2f}', ha='right', va='center',\n",
    "                    bbox=dict(facecolor='white', alpha=1, edgecolor='none', boxstyle='round,pad=0.2'))\n",
    "    \n",
    "    for ticker in tickers:\n",
    "        ax.plot(data['Date'][:frame], data[ticker][:frame], label=ticker)\n",
    "        ax.text(data['Date'][frame], data[ticker][frame], f'${data[ticker][frame]:.2f}', ha='left', va='center',\n",
    "                bbox=dict(facecolor='white', alpha=1, edgecolor='none', boxstyle='round,pad=0.2'))\n",
    "\n",
    "    ax.set_title(f'{\" Vs \".join(tickers)},\\n $USD per share')\n",
    "    ax.set_ylabel('$USD per share')\n",
    "    ax.legend(loc='upper left')\n",
    "\n",
    "    if frame % 10 == 0 or frame == len(data['Date']) - 1:\n",
    "        print(f'Completion: {frame/len(data[\"Date\"])*100:.2f}%') \n",
    "        if frame == len(data['Date'])-1:\n",
    "            print('Done!')\n",
    "            # Display growth comparison on the last frame\n",
    "            plt.figtext(0.5, 0.5, f'\\nGrowth (%) Overtime:\\n{growth_text}', ha=\"center\", fontsize=10, bbox={\"facecolor\":\"orange\", \"alpha\":0.5, \"pad\":5})\n",
    "\n",
    "ani = FuncAnimation(fig, update, frames=len(data['Date']), repeat=False)\n",
    "\n",
    "# Save the animation\n",
    "writer = FFMpegWriter(fps=30)\n",
    "filename = f'stock_progression_{\"_vs_\".join(tickers)}_{min_date}_to_{max_date}.mp4'\n",
    "ani.save(f'./output/{filename}.mp4', writer=writer)\n",
    "\n",
    "plt.close(fig)\n"
   ]
  },
  {
   "cell_type": "code",
   "execution_count": null,
   "metadata": {},
   "outputs": [],
   "source": []
  }
 ],
 "metadata": {
  "kernelspec": {
   "display_name": "venv",
   "language": "python",
   "name": "python3"
  },
  "language_info": {
   "codemirror_mode": {
    "name": "ipython",
    "version": 3
   },
   "file_extension": ".py",
   "mimetype": "text/x-python",
   "name": "python",
   "nbconvert_exporter": "python",
   "pygments_lexer": "ipython3",
   "version": "3.11.3"
  }
 },
 "nbformat": 4,
 "nbformat_minor": 2
}
